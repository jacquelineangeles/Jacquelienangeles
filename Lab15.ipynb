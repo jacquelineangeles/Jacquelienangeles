{
  "nbformat": 4,
  "nbformat_minor": 0,
  "metadata": {
    "colab": {
      "provenance": [],
      "authorship_tag": "ABX9TyMvkBWxuKba37i7WvTAq2T2",
      "include_colab_link": true
    },
    "kernelspec": {
      "name": "python3",
      "display_name": "Python 3"
    },
    "language_info": {
      "name": "python"
    }
  },
  "cells": [
    {
      "cell_type": "markdown",
      "metadata": {
        "id": "view-in-github",
        "colab_type": "text"
      },
      "source": [
        "<a href=\"https://colab.research.google.com/github/jacquelineangeles/Jacquelienangeles/blob/main/Lab15.ipynb\" target=\"_parent\"><img src=\"https://colab.research.google.com/assets/colab-badge.svg\" alt=\"Open In Colab\"/></a>"
      ]
    },
    {
      "cell_type": "markdown",
      "source": [
        "Title: Elisa"
      ],
      "metadata": {
        "id": "JTmuYRCrE-VD"
      }
    },
    {
      "cell_type": "markdown",
      "source": [
        "purpose:\n",
        "The enzyme-linked immunosorbent assay ELISA is a widely employed immunological technique for detecting and quantifying antibodies, antigens, proteins, and glycoproteins in biological samples. It finds applications in various areas such as HIV infection diagnosis, pregnancy tests, and measuring cytokines or soluble receptors in cell supernatant or serum."
      ],
      "metadata": {
        "id": "O9MhPxveFBuf"
      }
    },
    {
      "cell_type": "markdown",
      "source": [
        "procedure:\n",
        "*change pipette tips between each solution*\n",
        "   *prepare plate standards and reagents\n",
        "\n",
        "\n",
        "1.   Coat all 12 spots with antigen\n",
        "2.   wash all\n",
        "3. Incubated all 12 spots with Primary AB\n",
        "4. wash\n",
        "5.  Incubate with secondary Ab\n",
        "6. Wash\n",
        "7. Add enzymes and samples\n",
        "\n",
        "\n"
      ],
      "metadata": {
        "id": "Ta1Xm7osFTBQ"
      }
    },
    {
      "cell_type": "markdown",
      "source": [
        "Data:\n",
        "From our results the first three which was postive turned well blue, the next 3 (4,5,6)  were negative and the wells stayed clear, the next 2(7,8) were sample 16 which light blue, the next two (9,10) stayed clear and the last two (10,11,12) turned into a light blue."
      ],
      "metadata": {
        "id": "TgPu5pLaJ9Pv"
      }
    },
    {
      "cell_type": "markdown",
      "source": [
        "Discussion\n",
        " As we waited 5 minutes some of the plates changed to a blue color which were the first three, sample 16 and sample 18, which concludes they are postive. which indicate the presence of the target substance (antigen or antiboby) in the wall."
      ],
      "metadata": {
        "id": "37ISjnydIMdH"
      }
    },
    {
      "cell_type": "markdown",
      "source": [
        "conclusion:Understanding ELISA's versatility, the positive results of this experiment create opportunities for broader use in various fields. This highlights ELISA's effectiveness in diagnostics and analytics within immunology and related disciplines, showing promise for applications in medical diagnostics, disease research, and other relevant areas.\n",
        "\n",
        "\n",
        "\n",
        "\n",
        "\n"
      ],
      "metadata": {
        "id": "OL9SBqkrIPME"
      }
    }
  ]
}