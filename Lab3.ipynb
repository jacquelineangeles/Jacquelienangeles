{
  "nbformat": 4,
  "nbformat_minor": 0,
  "metadata": {
    "colab": {
      "provenance": [],
      "authorship_tag": "ABX9TyM9xx9qrIWzI1sViVQd6cfK",
      "include_colab_link": true
    },
    "kernelspec": {
      "name": "python3",
      "display_name": "Python 3"
    },
    "language_info": {
      "name": "python"
    }
  },
  "cells": [
    {
      "cell_type": "markdown",
      "metadata": {
        "id": "view-in-github",
        "colab_type": "text"
      },
      "source": [
        "<a href=\"https://colab.research.google.com/github/jacquelineangeles/Jacquelienangeles/blob/main/Lab3.ipynb\" target=\"_parent\"><img src=\"https://colab.research.google.com/assets/colab-badge.svg\" alt=\"Open In Colab\"/></a>"
      ]
    },
    {
      "cell_type": "code",
      "execution_count": null,
      "metadata": {
        "id": "3MHXUti8dTAl"
      },
      "outputs": [],
      "source": [
        "Title: PROPERTIES OF ENZYME ACTION"
      ]
    },
    {
      "cell_type": "markdown",
      "source": [
        "Purpose:\n",
        "The purpose of the experiment aims to investigate the vulnerability of enzymes to denaturation caused by extreme changes in temperature and pH. By exploring the impact of these environmental factors on the tertiary molecular structure of enzymes, the study seeks to understand how denaturation leads to a permanent loss of catalytic abilities. This contributes to the broader comprehension of enzymes' sensitivity to their surroundings, emphasizing the narrow operational limits within which enzymes maintain their functionality."
      ],
      "metadata": {
        "id": "ieRUTV9QdVKN"
      }
    },
    {
      "cell_type": "markdown",
      "source": [
        "Procedure:\n",
        "\n",
        "\n",
        "1.   Added litmus powder to dairy cream, creating a medium blue color. Preincubate litmus cream and 2% pancreatin separately at 37°C for 5 minutes.\n",
        "2.   Set up four test tubes:\n",
        "Tube #1: Cream + Pancreatin\n",
        "Tube #2: Cream + Distilled Water\n",
        "Tube #3: Cream + Pancreatin + Bile Salts\n",
        "Tube #4: Cream + Distilled Water + Bile Salts\n",
        "Gently shook each tube, incubated at 37°C for 1 hour, checked every minute initially and then every 15 minutes.\n",
        "3.Record color changes, time, and tube number. Remove tubes, test pH with pH paper, and note odor/color.\n",
        "\n"
      ],
      "metadata": {
        "id": "YVwgznt7dVMi"
      }
    },
    {
      "cell_type": "code",
      "source": [
        "Data:\n",
        "Tube  Color                pH       Odor                   Time to change color\n",
        "\n",
        "1.    slight pink          5        Stinky feet order       16\n",
        "2.    purple               6        musky order             14\n",
        "3.    light pink           4        rotten eggs odor        17\n",
        "4.    dark bluish purple   7        dirty odor              12"
      ],
      "metadata": {
        "id": "v1jsKFn9l78O"
      },
      "execution_count": null,
      "outputs": []
    },
    {
      "cell_type": "markdown",
      "source": [
        "Discussion:\n",
        "\n",
        "Tube\n",
        "1.   Pancreatin, containing lipase, facilitates the hydrolysis of fats into fatty acids and glycerol. This enzymatic action results in the breakdown of triglycerides in the cream.\n",
        "2.   Without the addition of pancreatin, the tube lacks the lipase enzyme needed for efficient fat digestion.\n",
        "3.  Pancreatin digests fats, and the added bile salts aid in emulsification, breaking down fat globules into smaller droplets. This increases the surface area for lipase action\n",
        "4. Similar to Tube #2, this tube lacks pancreatin for efficient fat digestion, but bile salts are present for potential emulsification.\n",
        "\n",
        "\n"
      ],
      "metadata": {
        "id": "HbafmoVFmb0T"
      }
    },
    {
      "cell_type": "markdown",
      "source": [
        "Conclusion:\n",
        "Be able to define an enzyme.\n",
        "Enzymes are proteins that help speed up metabolism, or the chemical reactions in our bodies\n",
        "\n",
        "Understand the manner in which enzymes operate.\n",
        "Enzymes work by fitting with their substrates like a lock and key. The active site binds specifically to the substrate, creating a temporary complex that promotes the chemical reaction. After the reaction, the enzyme is released unchanged.\n",
        "\n",
        "Understand the effect of pH and temperature on an enzyme.\n",
        "Enzyme activity is strongly affected by pH and temperature,Changes from the ideal conditions can damage the enzyme's structure, causing denaturation and a loss of its ability to catalyze reactions.\n",
        "\n",
        "Understand the difference between digestion and emulsification.\n",
        "Digestion breaks down food molecules for easier absorbation and emulsification breaks down large fat globules into smaller droplets. In the experiment we could see pancreatin digesting fats, and adding bile salts aid in emulsification, enhancing the efficiency of fat digestion.\n",
        "\n",
        "Understand the roles of indicators and buffers in this experiment.\n",
        "Litmus powder serves as an indicator in the experiment it changed color due to enzymatic reactions which changed PH.\n"
      ],
      "metadata": {
        "id": "Q-1s3b5qoaoG"
      }
    }
  ]
}