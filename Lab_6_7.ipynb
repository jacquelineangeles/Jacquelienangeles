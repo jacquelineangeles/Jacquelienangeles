{
  "nbformat": 4,
  "nbformat_minor": 0,
  "metadata": {
    "colab": {
      "provenance": [],
      "authorship_tag": "ABX9TyMrEJGwi1CkJ0dhNMrD9eUD",
      "include_colab_link": true
    },
    "kernelspec": {
      "name": "python3",
      "display_name": "Python 3"
    },
    "language_info": {
      "name": "python"
    }
  },
  "cells": [
    {
      "cell_type": "markdown",
      "metadata": {
        "id": "view-in-github",
        "colab_type": "text"
      },
      "source": [
        "<a href=\"https://colab.research.google.com/github/jacquelineangeles/Jacquelienangeles/blob/main/Lab_6_7.ipynb\" target=\"_parent\"><img src=\"https://colab.research.google.com/assets/colab-badge.svg\" alt=\"Open In Colab\"/></a>"
      ]
    },
    {
      "cell_type": "code",
      "execution_count": null,
      "metadata": {
        "id": "idiz2b22Nfgl"
      },
      "outputs": [],
      "source": [
        "Title:SENSORY PHYSIOLOGY"
      ]
    },
    {
      "cell_type": "markdown",
      "source": [
        "Purpose:\n",
        "The experiment looks at how the body senses things, involving receptors, sensory neurons, and interpretation centers in the central nervous system. These parts are important for keeping track of what's happening around us and turning it into feelings. Various types of receptor cells, like those for touch, smell, taste, hearing, body movement, and sight, react to specific things in the environment. Each receptor makes a kind of signal that activates sensory neurons, making us feel specific things in the brain. How intense a feeling is depends on how fast these signals get to the brain. If they come more often, the feeling is stronger. This idea, called intensity coding, relies on the frequency, not the size, of the signals.The lab has activities to test how well our sensing systems work, covering touch, smell, hearing, body movement, and sight. The goal is to see basic ideas about how our body senses things through these activities.\n",
        "\n",
        "\n",
        "\n",
        "\n",
        "\n"
      ],
      "metadata": {
        "id": "SRwOTrR4sURX"
      }
    },
    {
      "cell_type": "markdown",
      "source": [
        "Procedure:\n",
        "\n",
        "A\n",
        "1. place two caliper pinpoints as closely together as possible on the palm of their hand.\n",
        "\n",
        "2. Removed the pins and reapply them 1 millimeter apart. Repeated until my partner can feel two distinct points.\n",
        "\n",
        "3. Recorded the distance between pins when your partner can discriminate two separate points.\n",
        "\n",
        "4. Compare results from different areas: a. palm of hand b. back of hand c. fingertip d. outer edge of the lips e. back of neck\n",
        "\n",
        "5. Had  partner conduct the same experiment on your skin.\n",
        "\n",
        "B\n",
        "1. Placed  left fingers in 15C water and right fingers in warm water and\n",
        "recorded the sensation of each. Kept hands immersed for 2 minutes.\n",
        "2. After two minutes, described the sensation in each hand.\n",
        "3. Remove hands and promptly place them both in 25C water. Describe the immediate\n",
        "sensation in each hand\n",
        "\n",
        "b-2\n",
        "\n",
        "\n",
        "1.  \n",
        "Blocked  left nostril and hold the uncorked camphor oil under nose until the scent is undetectable. Recorded the adaptation time.\n",
        "\n",
        "2. Replaced the camphor with bottles of cloves and peppermint oil. Differentiate between the smells of cloves and peppermint oil.\n",
        "\n",
        "3. Repeated the process with camphor, uncorking and holding it under nose until the smell is no longer recognized. Recorded the second adaptation time.\n",
        "\n",
        "4. Unblocked left nostril and checked if I can detect the camphor.\n",
        "\n",
        "5. Interpret the obtained results.\n",
        "\n",
        "\n",
        "c\n",
        "\n",
        "1.  The instructor will demonstrate audiometer operation in a quiet room.\n",
        "2. Conduct audiometry tests in pairs; each student records their partner's audiogram.\n",
        "3. Recorded results on the provided worksheet (page 44).\n",
        "4. Analyze audiograms as follows:\n",
        "a. Average values for each ear at 500 Hz, 1000 Hz, and 2000 Hz.\n",
        "b. Subtract 26 dB from each average.\n",
        "c. If the difference exceeds 26, multiply by 1.5% for the percent impairment of each ear.\n",
        "5. Calculated the percent of biaural impairment:\n",
        "Biaural impairment = (% impairment of the good ear x 5) + (% impairment of the bad ear).\n",
        "\n",
        "\n",
        "E\n",
        "1. Covered left eye and focus the right eye on the center of the cross below.\n",
        "2. Slowly brought the page closer to your eye until the spot disappears.\n",
        "3. Have your partner measure this distance from your eye to the page.\n",
        "4. The image of the spot is now superimposed on the optic nerve. Explain the lack of vision\n",
        "at this point.\n",
        "\n",
        "E-5\n",
        "\n",
        "    \n",
        "\n",
        "1.   Sit by the perimeter board with right eye at the semicircle's edge. Cover your left eye and focus on the center line.   \n",
        "\n",
        "2.  partner presented colored blocks; identified them without moving  eye or uncovering the left eye.\n",
        "3. Recorded the discriminated degree of each color on the perimetry score sheet\n",
        "4. Repeated for each block on both horizontal and vertical charts. Connect dots of the same color to outline cone placement on your data sheet.\n",
        "Cover your left eye and focus on the center line.\n",
        "5. Explained results concerning cone placement in  retina.\n",
        " partner will present colored blocks; identify them without moving eye or uncovering the left eye.\n",
        "6. Recorded the discriminated degree of each color on the perimetry score sheet (page 47).\n",
        "7. Repeated for each block on both horizontal and vertical charts. Connected dots of the same color to outline cone placement on your data sheet.\n",
        "Explained results concerning cone placement in your retina.\n",
        "\n",
        "\n",
        "\n",
        "\n",
        "\n",
        "\n",
        "\n",
        "\n",
        "\n",
        "\n",
        "\n",
        "\n",
        "\n"
      ],
      "metadata": {
        "id": "DvkW3ZGSsigv"
      }
    },
    {
      "cell_type": "code",
      "source": [
        "import matplotlib.pyplot as plt"
      ],
      "metadata": {
        "id": "jDaVynMvyJbj"
      },
      "execution_count": 1,
      "outputs": []
    },
    {
      "cell_type": "code",
      "source": [
        "RIGHT_500 = 10\n",
        "RIGHT_1000 = 15\n",
        "RIGHT_2000 = 10\n",
        "\n",
        "LEFT_500 = 20\n",
        "LEFT_1000 = 30\n",
        "LEFT_2000 = 40"
      ],
      "metadata": {
        "id": "Y8Pi5lriyJ8N"
      },
      "execution_count": 2,
      "outputs": []
    },
    {
      "cell_type": "code",
      "source": [
        "Right_x = 500,1000,2000\n",
        "Right_y = RIGHT_500, RIGHT_1000, RIGHT_2000\n",
        "\n",
        "Left_x = Right_x\n",
        "Left_y = LEFT_500, LEFT_1000, LEFT_2000"
      ],
      "metadata": {
        "id": "H32fu7PfyY0p"
      },
      "execution_count": null,
      "outputs": []
    },
    {
      "cell_type": "code",
      "source": [
        "plt.plot(Right_x, Right_y, '-o', label = \"Right\" )\n",
        "plt.plot(Left_x, Left_y, '-o', label = \"Left\" )\n",
        "plt.ylabel('Loudness (dB)')\n",
        "plt.xlabel(\"Frequency (MHz)\")\n",
        "plt.title('Right and Left Hearing Profiles')\n",
        "plt.legend()\n",
        "plt.show()"
      ],
      "metadata": {
        "colab": {
          "base_uri": "https://localhost:8080/",
          "height": 472
        },
        "id": "lO2Dp50xyY9q",
        "outputId": "7c874a24-9935-4bae-f729-e6eebb1e5298"
      },
      "execution_count": 5,
      "outputs": [
        {
          "output_type": "display_data",
          "data": {
            "text/plain": [
              "<Figure size 640x480 with 1 Axes>"
            ],
            "image/png": "[encoded data removed]"
          },
          "metadata": {}
        }
      ]
    },
    {
      "cell_type": "code",
      "source": [
        "# Calculate the average for the right side\n",
        "average_right = sum(Right_y) / len(Right_y)\n",
        "\n",
        "# Calculate the average for the left side\n",
        "average_left = sum(Left_y) / len(Left_y)\n",
        "\n",
        "# Subtract 26 from each average\n",
        "average_right -= 26\n",
        "average_left -= 26\n",
        "\n",
        "# Calculate percent impairment for the right side\n",
        "if average_right > 0:\n",
        "    percent_impairment_right = average_right * 1.5\n",
        "else:\n",
        "    percent_impairment_right = \"Not impaired\"\n",
        "\n",
        "# Calculate percent impairment for the left side\n",
        "if average_left > 0:\n",
        "    percent_impairment_left = average_left * 1.5\n",
        "else:\n",
        "    percent_impairment_left = \"Not impaired\"\n",
        "\n",
        "print(\"Average Right after subtraction:\", average_right)\n",
        "print(\"Percent Impairment Right:\", percent_impairment_right, \"%\")\n",
        "\n",
        "print(\"Average Left after subtraction:\", average_left)\n",
        "print(\"Percent Impairment Left:\", percent_impairment_left, \"%\")"
      ],
      "metadata": {
        "colab": {
          "base_uri": "https://localhost:8080/"
        },
        "id": "6bL2lszWymGA",
        "outputId": "18489d11-2d88-4a3e-f934-8164d53e4c7c"
      },
      "execution_count": 6,
      "outputs": [
        {
          "output_type": "stream",
          "name": "stdout",
          "text": [
            "Average Right after subtraction: -14.333333333333334\n",
            "Percent Impairment Right: Not impaired %\n",
            "Average Left after subtraction: 4.0\n",
            "Percent Impairment Left: 6.0 %\n"
          ]
        }
      ]
    },
    {
      "cell_type": "markdown",
      "source": [
        "\n",
        "\n",
        "Discussion:\n",
        "Receptors, like the hair cells in the inner ear, detect specific stimuli in the environment, especially in hearing. These hair cells transform sound waves into electrical signals that the nervous system can understand. Sensory neurons, also called afferent neurons, transmit these signals from the receptors to the central nervous system. In the auditory system, these neurons convey information from the cochlea to the brain for further understanding. The main processing center for auditory sensations is situated in the auditory cortex, found in the temporal lobe of the brain. In this area, electrical signals from sensory neurons are processed and arranged into meaningful perceptions of sound.\n",
        "\n",
        "\n",
        "\n",
        "\n",
        "\n",
        "\n"
      ],
      "metadata": {
        "id": "r664zEJjyuHQ"
      }
    },
    {
      "cell_type": "markdown",
      "source": [
        "Conclusion: In conclusion,the way we hear is a fascinating process. Receptors, like the inner ear's hair cells, pick up specific signals, turning them into electrical messages. These signals travel through sensory neurons to the brain, where the auditory cortex in the temporal lobe makes sense of them. This process shows how finely tuned and precise our hearing is."
      ],
      "metadata": {
        "id": "foTLloPIyu0l"
      }
    }
  ]
}